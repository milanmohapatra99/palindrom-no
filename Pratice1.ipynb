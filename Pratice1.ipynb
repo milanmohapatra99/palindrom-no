{
 "cells": [
  {
   "cell_type": "code",
   "execution_count": 1,
   "id": "5716ce3b",
   "metadata": {},
   "outputs": [
    {
     "name": "stdout",
     "output_type": "stream",
     "text": [
      " Please Enter Your Mark: \n",
      "23\n",
      "Sorry! You are fail\n"
     ]
    }
   ],
   "source": [
    "#w.a.p input your mark check your grade\n",
    "num=int(input(' Please Enter Your Mark: \\n'))\n",
    "if num<=100 and num>=80:\n",
    "    print(' You are a Genious and You got A+ grade!')\n",
    "elif num<79 and num>75:\n",
    "    print('You got A grade')\n",
    "elif num < 75 and num > 70:\n",
    "    print('You got A- grade')\n",
    "elif num < 70 and num > 65:\n",
    "    print('You got B+ grade')\n",
    "elif num < 65 and num > 60:\n",
    "    print('You got B grade')\n",
    "elif num <60 and num >50:\n",
    "    print('You got C+ grade')\n",
    "elif num <50 and num >40:\n",
    "    print('You got C grade')\n",
    "elif num<0:\n",
    "    print('Invalid Option!')\n",
    "\n",
    "else :\n",
    "    print('Sorry! You are fail')"
   ]
  },
  {
   "cell_type": "code",
   "execution_count": 2,
   "id": "71d9d401",
   "metadata": {},
   "outputs": [
    {
     "name": "stdout",
     "output_type": "stream",
     "text": [
      "Current number of flights: 150\n"
     ]
    }
   ],
   "source": [
    "#w.a.p to show how many flights in the air port\n",
    "\n",
    "landings_count=386\n",
    "takeoffs_count=295\n",
    "initial_flights=59\n",
    "current_flights = initial_flights + landings_count - takeoffs_count\n",
    "print(\"Current number of flights:\",current_flights)"
   ]
  },
  {
   "cell_type": "code",
   "execution_count": 3,
   "id": "0d5704c9",
   "metadata": {},
   "outputs": [
    {
     "name": "stdout",
     "output_type": "stream",
     "text": [
      "Enter landing flights:-569\n",
      "Enter takeoff flights:-248\n",
      "Enter initial flights:-63\n",
      "Current number of flights: 384\n"
     ]
    }
   ],
   "source": [
    "#w.a.p to show how many flights in the air port by user input\n",
    "landings_count  =  int(input(\"Enter landing flights:-\"))\n",
    "takeoffs_count  =  int(input(\"Enter takeoff flights:-\"))\n",
    "initial_flights =  int(input(\"Enter initial flights:-\"))\n",
    "current_flights = initial_flights + landings_count - takeoffs_count\n",
    "print(\"Current number of flights:\",current_flights)"
   ]
  },
  {
   "cell_type": "code",
   "execution_count": 6,
   "id": "e1c607c8",
   "metadata": {},
   "outputs": [
    {
     "name": "stdout",
     "output_type": "stream",
     "text": [
      "Enter the Year:2022\n",
      "it is not a leaf year\n"
     ]
    }
   ],
   "source": [
    "#w.a.p to input a year check wheather it is leaf year or not\n",
    "y=int(input(\"Enter the Year:\"))\n",
    "if (y % 4==0 and y % 100 !=0):\n",
    "    print('it is a leaf year')\n",
    "elif(y % 400 == 0):\n",
    "    print(\"it is a leaf year\")\n",
    "else:\n",
    "    print(\"it is not a leaf year\")"
   ]
  },
  {
   "cell_type": "code",
   "execution_count": null,
   "id": "c93c1e1e",
   "metadata": {},
   "outputs": [],
   "source": [
    "#w.a.p to find the minimum among 3 given numbers\n",
    "a =input(\"Enter No1:-\")\n",
    "b =input(\"Enter No2:-\")\n",
    "c =input(\"Enter No3:-\")\n",
    "if (a < b):\n",
    "    if(a < c):\n",
    "        print(\"a is small\")\n",
    "    else:\n",
    "        print(\"c is small\")\n",
    "elif (b < c):\n",
    "    print(\"b is small\")\n",
    "else:\n",
    "        print(\"c is small\")"
   ]
  }
 ],
 "metadata": {
  "kernelspec": {
   "display_name": "Python 3 (ipykernel)",
   "language": "python",
   "name": "python3"
  },
  "language_info": {
   "codemirror_mode": {
    "name": "ipython",
    "version": 3
   },
   "file_extension": ".py",
   "mimetype": "text/x-python",
   "name": "python",
   "nbconvert_exporter": "python",
   "pygments_lexer": "ipython3",
   "version": "3.9.7"
  }
 },
 "nbformat": 4,
 "nbformat_minor": 5
}
