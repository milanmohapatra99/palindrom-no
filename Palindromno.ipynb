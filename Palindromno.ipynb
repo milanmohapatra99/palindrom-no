{
 "cells": [
  {
   "cell_type": "code",
   "execution_count": 3,
   "id": "40ea8d90",
   "metadata": {},
   "outputs": [
    {
     "name": "stdout",
     "output_type": "stream",
     "text": [
      "Enter No:-145\n",
      "no is not palindrom\n"
     ]
    }
   ],
   "source": [
    "#w.a.p to input no check wheather this no is palindrome or not\n",
    "n  = int(input(\"Enter No:-\"))\n",
    "n1 = n\n",
    "rev =0 \n",
    "while(n != 0):\n",
    "    dg = int(n % 10)\n",
    "    rev = rev * 10 +dg\n",
    "    n = n // 10\n",
    "      \n",
    "if (n1 == rev):\n",
    "    print('no is palindrom')\n",
    "else:\n",
    "    print('no is not palindrom')"
   ]
  },
  {
   "cell_type": "code",
   "execution_count": null,
   "id": "833ab7fe",
   "metadata": {},
   "outputs": [],
   "source": []
  }
 ],
 "metadata": {
  "kernelspec": {
   "display_name": "Python 3 (ipykernel)",
   "language": "python",
   "name": "python3"
  },
  "language_info": {
   "codemirror_mode": {
    "name": "ipython",
    "version": 3
   },
   "file_extension": ".py",
   "mimetype": "text/x-python",
   "name": "python",
   "nbconvert_exporter": "python",
   "pygments_lexer": "ipython3",
   "version": "3.9.7"
  }
 },
 "nbformat": 4,
 "nbformat_minor": 5
}
