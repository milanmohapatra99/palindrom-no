{
 "cells": [
  {
   "cell_type": "code",
   "execution_count": 2,
   "id": "ac619591",
   "metadata": {},
   "outputs": [
    {
     "name": "stdout",
     "output_type": "stream",
     "text": [
      "----Start------\n",
      "* \n",
      "* * \n",
      "* * * \n",
      "* * * * \n",
      "* * * * * \n",
      "----END------\n"
     ]
    }
   ],
   "source": [
    "#w.a.p to print Structure of *\n",
    "print('----Start------') \n",
    "l=1\n",
    "while(l <= 5):\n",
    "    c=1\n",
    "    while(c <= l):\n",
    "        print('*',end=\" \")\n",
    "        c = c + 1\n",
    "    print()\n",
    "    l = l + 1\n",
    "print('----END------')    "
   ]
  },
  {
   "cell_type": "code",
   "execution_count": 3,
   "id": "01fdd337",
   "metadata": {},
   "outputs": [
    {
     "name": "stdout",
     "output_type": "stream",
     "text": [
      "0 0 0 0 0 \r\n",
      "1 1 1 1 \r\n",
      "2 2 2 \r\n",
      "3 3 \r\n",
      "4 \r\n"
     ]
    }
   ],
   "source": [
    "#by using Function\n",
    "def cont(n):\n",
    "    for i in range(0, n):\n",
    "        for j in range(i, 5):\n",
    "            print(i, end=\" \")\n",
    "            j = j + 1\n",
    "        print(\"\\r\")\n",
    "\n",
    "n = 5\n",
    "cont(n)"
   ]
  },
  {
   "cell_type": "code",
   "execution_count": 13,
   "id": "b97bd232",
   "metadata": {},
   "outputs": [
    {
     "name": "stdout",
     "output_type": "stream",
     "text": [
      "1*\r\n",
      "2*3*\r\n",
      "4*5*6*\r\n",
      "7*8*9*10*\r\n",
      "11*12*13*14*15*\r\n"
     ]
    }
   ],
   "source": [
    "def cont(n):\n",
    "    num = 1\n",
    "    for i in range(0, n):\n",
    "        for j in range(0, i+1):\n",
    "            print(num, end=\"*\")\n",
    "            num = num + 1\n",
    "        print(\"\\r\")\n",
    "\n",
    "n = 5\n",
    "cont(n)"
   ]
  },
  {
   "cell_type": "code",
   "execution_count": null,
   "id": "10fb3463",
   "metadata": {},
   "outputs": [],
   "source": []
  }
 ],
 "metadata": {
  "kernelspec": {
   "display_name": "Python 3 (ipykernel)",
   "language": "python",
   "name": "python3"
  },
  "language_info": {
   "codemirror_mode": {
    "name": "ipython",
    "version": 3
   },
   "file_extension": ".py",
   "mimetype": "text/x-python",
   "name": "python",
   "nbconvert_exporter": "python",
   "pygments_lexer": "ipython3",
   "version": "3.9.7"
  }
 },
 "nbformat": 4,
 "nbformat_minor": 5
}
